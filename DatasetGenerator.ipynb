{
 "cells": [
  {
   "cell_type": "code",
   "execution_count": 3,
   "id": "520f20df-baea-437c-a7a7-c0ba938ed41a",
   "metadata": {},
   "outputs": [],
   "source": [
    "import os\n",
    "os.environ['KMP_DUPLICATE_LIB_OK']='True' # very important"
   ]
  },
  {
   "cell_type": "code",
   "execution_count": 19,
   "id": "c213d04f-3d5e-47b4-bb40-7b72631efe4d",
   "metadata": {},
   "outputs": [
    {
     "name": "stdout",
     "output_type": "stream",
     "text": [
      "Synthetic dataset generated in 'C:\\Users\\Nameet\\Downloads\\Synthetic Dataset'\n"
     ]
    }
   ],
   "source": [
    "from PIL import Image, ImageDraw, ImageFont\n",
    "\n",
    "import random\n",
    "import numpy as np\n",
    "import cv2\n",
    "\n",
    "def generate_synthetic_dataset(output_dir, chars=\"0123456789ABCDEFGHIJKLMNOPQRSTUVWXYZ\", \n",
    "                               img_size=(32, 32), num_samples=50, font_paths=None):\n",
    "    if not os.path.exists(output_dir):\n",
    "        os.makedirs(output_dir)\n",
    "\n",
    "    # Load fonts\n",
    "    if font_paths is None:\n",
    "        font_paths = [\"arial.ttf\"]  # Replace with paths to license plate-like fonts\n",
    "    fonts = [ImageFont.truetype(font, size=img_size[0] - 8) for font in font_paths]\n",
    "\n",
    "    # Generate images\n",
    "    for char in chars:\n",
    "        char_dir = os.path.join(output_dir, char)\n",
    "        os.makedirs(char_dir, exist_ok=True)\n",
    "        \n",
    "        for i in range(num_samples):\n",
    "            # Create a blank image\n",
    "            img = Image.new('L', img_size, color=255)  # White background\n",
    "            draw = ImageDraw.Draw(img)\n",
    "\n",
    "            # Choose random font and calculate bounding box\n",
    "            font = random.choice(fonts)\n",
    "            bbox = font.getbbox(char)\n",
    "            w, h = bbox[2] - bbox[0], bbox[3] - bbox[1]\n",
    "\n",
    "            # Draw character in the center\n",
    "            draw.text(((img_size[0] - w) / 2, (img_size[1] - h) / 2), char, fill=0, font=font)\n",
    "\n",
    "            # Apply augmentations\n",
    "            img = np.array(img)\n",
    "            img = apply_augmentations(img)\n",
    "\n",
    "            # Save image\n",
    "            output_path = os.path.join(char_dir, f\"{char}_{i}.png\")\n",
    "            cv2.imwrite(output_path, img)\n",
    "\n",
    "    print(f\"Synthetic dataset generated in '{output_dir}'\")\n",
    "\n",
    "def apply_augmentations(image):\n",
    "    # Add random rotation\n",
    "    angle = random.uniform(-15, 15)\n",
    "    matrix = cv2.getRotationMatrix2D((image.shape[1] / 2, image.shape[0] / 2), angle, 1)\n",
    "    image = cv2.warpAffine(image, matrix, (image.shape[1], image.shape[0]), borderValue=255)\n",
    "\n",
    "    # Add random noise\n",
    "    noise = np.random.normal(0, 10, image.shape).astype(np.uint8)\n",
    "    image = cv2.add(image, noise)\n",
    "\n",
    "    # Add random brightness variation\n",
    "    brightness = random.uniform(0.7, 1.3)\n",
    "    image = np.clip(image * brightness, 0, 255).astype(np.uint8)\n",
    "\n",
    "    return image\n",
    "\n",
    "# Example usage\n",
    "generate_synthetic_dataset(\n",
    "    output_dir=\"C:\\\\Users\\\\Nameet\\\\Downloads\\\\Synthetic Dataset\",\n",
    "    num_samples=100,\n",
    "    font_paths=[\"arial.ttf\", \"times.ttf\"]  # Replace with actual paths to font files\n",
    ")\n"
   ]
  }
 ],
 "metadata": {
  "kernelspec": {
   "display_name": "Python 3 (ipykernel)",
   "language": "python",
   "name": "python3"
  },
  "language_info": {
   "codemirror_mode": {
    "name": "ipython",
    "version": 3
   },
   "file_extension": ".py",
   "mimetype": "text/x-python",
   "name": "python",
   "nbconvert_exporter": "python",
   "pygments_lexer": "ipython3",
   "version": "3.12.7"
  }
 },
 "nbformat": 4,
 "nbformat_minor": 5
}
