{
 "cells": [
  {
   "cell_type": "code",
   "execution_count": 14,
   "id": "5fb3ddea-6a8e-4abf-8f19-a1891c351e42",
   "metadata": {},
   "outputs": [],
   "source": [
    "\n",
    "import cv2"
   ]
  },
  {
   "cell_type": "code",
   "execution_count": 16,
   "id": "55e48bc9-70de-4085-b473-23abf9d39520",
   "metadata": {},
   "outputs": [],
   "source": [
    "harcascade = \"C:\\\\Users\\\\Nameet\\\\PycharmProjects\\\\Licence Plate Detection\\\\.venv\\\\haarcascade_russian_plate_number.xml\"\n",
    "cap = cv2.VideoCapture(0)\n",
    "# Set camera resolution\n",
    "cap.set(3, 640)  # width\n",
    "cap.set(4, 480)  # height\n",
    "min_area = 500\n",
    "count = 0\n",
    "if not cap.isOpened():\n",
    "    print(\"Error: Could not open video stream.\")\n",
    "else:\n",
    "    while True:\n",
    "        success, img = cap.read()\n",
    "\n",
    "        if not success:\n",
    "            print(\"Error: Failed to capture image.\")\n",
    "            break\n",
    "\n",
    "        plate_cascade = cv2.CascadeClassifier(harcascade)\n",
    "        img_gray = cv2.cvtColor(img, cv2.COLOR_BGR2GRAY)\n",
    "\n",
    "        plates = plate_cascade.detectMultiScale(img_gray, 1.1, 4)\n",
    "\n",
    "        for (x, y, w, h) in plates:\n",
    "            area = w * h\n",
    "\n",
    "            if area > min_area:\n",
    "                cv2.rectangle(img, (x, y), (x + w, y + h), (0, 255, 0), 2)\n",
    "                cv2.putText(img, \"Number Plate\", (x, y - 5), cv2.FONT_HERSHEY_COMPLEX_SMALL, 1, (255, 0, 255), 2)\n",
    "\n",
    "                img_roi = img[y: y + h, x:x + w]\n",
    "                cv2.imshow(\"ROI\", img_roi)\n",
    "\n",
    "        cv2.imshow(\"Result\", img)\n",
    "\n",
    "        # Save the ROI when 's' is pressed\n",
    "        if cv2.waitKey(1) & 0xFF == ord('s'):\n",
    "            if 'img_roi' in locals():  # Check if img_roi is defined\n",
    "                cv2.imwrite(f\"scanned_images/scaned_img_{count}.jpg\", img_roi)\n",
    "                cv2.rectangle(img, (0, 200), (640, 300), (0, 255, 0), cv2.FILLED)\n",
    "                cv2.putText(img, \"Plate Saved\", (150, 265), cv2.FONT_HERSHEY_COMPLEX_SMALL, 2, (0, 0, 255), 2)\n",
    "                cv2.imshow(\"Results\", img)\n",
    "                cv2.waitKey(500)\n",
    "                count += 1\n",
    "            else:\n",
    "                print(\"ROI not detected.\")\n",
    "\n",
    "        # Exit loop when 'q' is pressed\n",
    "        if cv2.waitKey(1) & 0xFF == ord('q'):\n",
    "            break\n",
    "\n",
    "    # Release the video capture and close windows\n",
    "    cap.release()\n",
    "    cv2.destroyAllWindows()"
   ]
  },
  {
   "cell_type": "code",
   "execution_count": null,
   "id": "98efbd61-256a-4a8b-8313-3aef4ed2b11d",
   "metadata": {},
   "outputs": [],
   "source": []
  },
  {
   "cell_type": "code",
   "execution_count": null,
   "id": "79ea101b-9bca-490d-9956-197b97ab4586",
   "metadata": {},
   "outputs": [],
   "source": []
  }
 ],
 "metadata": {
  "kernelspec": {
   "display_name": "Python 3 (ipykernel)",
   "language": "python",
   "name": "python3"
  },
  "language_info": {
   "codemirror_mode": {
    "name": "ipython",
    "version": 3
   },
   "file_extension": ".py",
   "mimetype": "text/x-python",
   "name": "python",
   "nbconvert_exporter": "python",
   "pygments_lexer": "ipython3",
   "version": "3.12.7"
  }
 },
 "nbformat": 4,
 "nbformat_minor": 5
}
