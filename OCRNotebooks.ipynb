{
 "cells": [
  {
   "cell_type": "code",
   "execution_count": 1,
   "id": "6759f1fb-0def-46cc-bd95-b9c44fd661d0",
   "metadata": {},
   "outputs": [],
   "source": [
    "import os\n",
    "os.environ['KMP_DUPLICATE_LIB_OK']='True' # very important"
   ]
  },
  {
   "cell_type": "code",
   "execution_count": 5,
   "id": "33c92260-b515-42f2-938b-1faab8bf880b",
   "metadata": {},
   "outputs": [],
   "source": [
    "import cv2\n",
    "import easyocr\n",
    "import numpy as np\n",
    "import matplotlib.pyplot as plt\n",
    "import re\n",
    "from IPython.display import Image, display"
   ]
  },
  {
   "cell_type": "code",
   "execution_count": 7,
   "id": "395ec3db-57c7-4b7e-9bc1-58347594cdb6",
   "metadata": {},
   "outputs": [],
   "source": [
    "def preprocess_image(image_path):\n",
    "    img = cv2.imread(image_path)\n",
    "\n",
    "    # Convert to grayscale\n",
    "    gray = cv2.cvtColor(img, cv2.COLOR_BGR2GRAY)\n",
    "\n",
    "    # Adaptive thresholding for better contrast\n",
    "    adaptive_thresh = cv2.adaptiveThreshold(gray, 255, cv2.ADAPTIVE_THRESH_GAUSSIAN_C, \n",
    "                                            cv2.THRESH_BINARY_INV, 35, 10)\n",
    "\n",
    "    # Sharpen image\n",
    "    kernel = np.array([[0, -1, 0], [-1, 5, -1], [0, -1, 0]])\n",
    "    sharpened = cv2.filter2D(adaptive_thresh, -1, kernel)\n",
    "\n",
    "    # Resize for better OCR clarity\n",
    "    img_resized = cv2.resize(sharpened, None, fx=2, fy=2, interpolation=cv2.INTER_LINEAR)\n",
    "\n",
    "    return img_resized\n"
   ]
  },
  {
   "cell_type": "code",
   "execution_count": 9,
   "id": "41967e90-9190-46d6-a814-26c033917c33",
   "metadata": {},
   "outputs": [],
   "source": [
    "# Function to crop a specific region (for license plate) from the image\n",
    "def crop_license_plate(image_path, x, y, w, h):\n",
    "    # Read image\n",
    "    img = cv2.imread(image_path)\n",
    "\n",
    "    # Crop the image based on the provided bounding box (x, y, width, height)\n",
    "    cropped_img = img[y:y+h, x:x+w]\n",
    "\n",
    "    return cropped_img"
   ]
  },
  {
   "cell_type": "code",
   "execution_count": 11,
   "id": "a2363918-4582-4c12-8fed-25059ede1eef",
   "metadata": {},
   "outputs": [],
   "source": [
    "def postprocess_text(text):\n",
    "    return re.sub(r'[.\\s]', '', text) "
   ]
  },
  {
   "cell_type": "code",
   "execution_count": 13,
   "id": "ea8753d8-a86a-46ab-89ef-2b26bd25a6ca",
   "metadata": {},
   "outputs": [],
   "source": [
    "import re\n",
    "\n",
    "# List of possible formats (Customize as needed)\n",
    "valid_plate_patterns = [\n",
    "    r'^[A-Z]{2}\\d{2}[A-Z]{2}\\d{4}$',  # e.g., MH12AB1234\n",
    "    r'^[A-Z]{2}\\d{2}[A-Z]\\d{4}$',     # e.g., KA03Z6789\n",
    "    r'^[A-Z]{2}\\d{1}[A-Z]{1,2}\\d{4}$' # e.g., DL1CAA4567\n",
    "]\n",
    "\n",
    "def correct_using_dictionary(ocr_text):\n",
    "    text_no_spaces = ocr_text.replace(\" \", \"\").upper()\n",
    "\n",
    "    # Match against known formats\n",
    "    for pattern in valid_plate_patterns:\n",
    "        if re.match(pattern, text_no_spaces):\n",
    "            return text_no_spaces  # Return the valid format\n",
    "\n",
    "    return text_no_spaces  # If no match, return as is"
   ]
  },
  {
   "cell_type": "code",
   "execution_count": 15,
   "id": "10154743-614c-46c1-ac40-c296bfe21455",
   "metadata": {},
   "outputs": [
    {
     "name": "stderr",
     "output_type": "stream",
     "text": [
      "Using CPU. Note: This module is much faster with a GPU.\n"
     ]
    }
   ],
   "source": [
    "# Initialize EasyOCR Reader\n",
    "reader = easyocr.Reader(['en'], gpu=False)  # Set GPU to True if available for faster processing"
   ]
  },
  {
   "cell_type": "code",
   "execution_count": 41,
   "id": "722bb46a-1cb0-43a4-be11-e22c5a777f37",
   "metadata": {},
   "outputs": [],
   "source": [
    "image_path = \"C:\\\\Users\\\\Nameet\\\\Number Plate Recognition\\\\demo.jpg\""
   ]
  },
  {
   "cell_type": "code",
   "execution_count": 43,
   "id": "1c454eeb-20e0-415c-9134-48ede1426f63",
   "metadata": {
    "scrolled": true
   },
   "outputs": [
    {
     "data": {
      "image/jpeg": "[encoded data removed]",
      "text/plain": [
       "<IPython.core.display.Image object>"
      ]
     },
     "metadata": {},
     "output_type": "display_data"
    }
   ],
   "source": [
    "display(Image(image_path))"
   ]
  },
  {
   "cell_type": "code",
   "execution_count": 45,
   "id": "e9e99b13-433f-46b8-abd1-6361ecfe54dd",
   "metadata": {},
   "outputs": [],
   "source": [
    "preprocessed_image = preprocess_image(image_path)"
   ]
  },
  {
   "cell_type": "code",
   "execution_count": 47,
   "id": "b798421c-3e34-4e6f-9991-11797caf8b9f",
   "metadata": {},
   "outputs": [],
   "source": [
    "result = reader.readtext(preprocessed_image)"
   ]
  },
  {
   "cell_type": "code",
   "execution_count": 49,
   "id": "4629dc0c-89ae-4467-bfae-8f94666fd163",
   "metadata": {},
   "outputs": [
    {
     "name": "stdout",
     "output_type": "stream",
     "text": [
      "Result for Image (Preprocessed):\n",
      "🔍 Raw OCR: HH12DE1433 | Cleaned: HH12DE1433 | ✅ Final: HH12DE1433\n"
     ]
    }
   ],
   "source": [
    "# Process & correct OCR output\n",
    "print(\"Result for Image (Preprocessed):\")\n",
    "for detection in result:\n",
    "    detected_text = detection[1]\n",
    "    \n",
    "    # Apply cleanup & character correction\n",
    "    cleaned_text = postprocess_text(detected_text)\n",
    "    corrected_text = correct_using_dictionary(cleaned_text)\n",
    "\n",
    "    print(f\"🔍 Raw OCR: {detected_text} | Cleaned: {cleaned_text} | ✅ Final: {corrected_text}\")\n"
   ]
  },
  {
   "cell_type": "code",
   "execution_count": 27,
   "id": "8dd779b1-c494-4542-82d5-afd6625b73aa",
   "metadata": {},
   "outputs": [
    {
     "data": {
      "text/plain": [
       "<module 'connector' from 'C:\\\\Users\\\\Nameet\\\\Number Plate Recognition\\\\connector.py'>"
      ]
     },
     "execution_count": 27,
     "metadata": {},
     "output_type": "execute_result"
    }
   ],
   "source": [
    "import importlib\n",
    "import connector\n",
    "importlib.reload(connector)\n"
   ]
  },
  {
   "cell_type": "code",
   "execution_count": 148,
   "id": "5d2fafce-aa87-4504-babc-156643e6e368",
   "metadata": {},
   "outputs": [
    {
     "name": "stdout",
     "output_type": "stream",
     "text": [
      "✅ Saved to DB: MH43AB6682 - Aniket\n"
     ]
    }
   ],
   "source": [
    "owner_name = \"Aniket\"\n",
    "connector.save_to_db(corrected_text , owner_name)"
   ]
  },
  {
   "cell_type": "code",
   "execution_count": null,
   "id": "e3acd27c-b5ef-4b40-afac-3cd0e3496400",
   "metadata": {},
   "outputs": [],
   "source": []
  },
  {
   "cell_type": "code",
   "execution_count": null,
   "id": "64cfe794-66c6-464b-b66f-de1b5a3155d4",
   "metadata": {},
   "outputs": [],
   "source": []
  }
 ],
 "metadata": {
  "kernelspec": {
   "display_name": "Python 3 (ipykernel)",
   "language": "python",
   "name": "python3"
  },
  "language_info": {
   "codemirror_mode": {
    "name": "ipython",
    "version": 3
   },
   "file_extension": ".py",
   "mimetype": "text/x-python",
   "name": "python",
   "nbconvert_exporter": "python",
   "pygments_lexer": "ipython3",
   "version": "3.12.7"
  }
 },
 "nbformat": 4,
 "nbformat_minor": 5
}
